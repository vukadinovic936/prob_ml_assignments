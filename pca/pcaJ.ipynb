{
 "cells": [
  {
   "cell_type": "markdown",
   "metadata": {},
   "source": [
    "# PCA code in python"
   ]
  },
  {
   "cell_type": "code",
   "execution_count": null,
   "metadata": {},
   "outputs": [],
   "source": [
    "# we import all the needed libraries\n",
    "import pandas as pd    \n",
    "import numpy as np    \n",
    "import random as rd    \n",
    "from sklearn.decomposition import PCA    \n",
    "from sklearn import preprocessing    \n",
    "import matplotlib.pyplot as plt   "
   ]
  },
  {
   "cell_type": "code",
   "execution_count": 4,
   "metadata": {},
   "outputs": [
    {
     "data": {
      "text/html": [
       "<div>\n",
       "<style scoped>\n",
       "    .dataframe tbody tr th:only-of-type {\n",
       "        vertical-align: middle;\n",
       "    }\n",
       "\n",
       "    .dataframe tbody tr th {\n",
       "        vertical-align: top;\n",
       "    }\n",
       "\n",
       "    .dataframe thead th {\n",
       "        text-align: right;\n",
       "    }\n",
       "</style>\n",
       "<table border=\"1\" class=\"dataframe\">\n",
       "  <thead>\n",
       "    <tr style=\"text-align: right;\">\n",
       "      <th></th>\n",
       "      <th>wt1</th>\n",
       "      <th>wt2</th>\n",
       "      <th>wt3</th>\n",
       "      <th>wt4</th>\n",
       "      <th>wt5</th>\n",
       "      <th>ko1</th>\n",
       "      <th>ko2</th>\n",
       "      <th>ko3</th>\n",
       "      <th>ko4</th>\n",
       "      <th>ko5</th>\n",
       "    </tr>\n",
       "  </thead>\n",
       "  <tbody>\n",
       "    <tr>\n",
       "      <th>gene1</th>\n",
       "      <td>NaN</td>\n",
       "      <td>NaN</td>\n",
       "      <td>NaN</td>\n",
       "      <td>NaN</td>\n",
       "      <td>NaN</td>\n",
       "      <td>NaN</td>\n",
       "      <td>NaN</td>\n",
       "      <td>NaN</td>\n",
       "      <td>NaN</td>\n",
       "      <td>NaN</td>\n",
       "    </tr>\n",
       "    <tr>\n",
       "      <th>gene2</th>\n",
       "      <td>NaN</td>\n",
       "      <td>NaN</td>\n",
       "      <td>NaN</td>\n",
       "      <td>NaN</td>\n",
       "      <td>NaN</td>\n",
       "      <td>NaN</td>\n",
       "      <td>NaN</td>\n",
       "      <td>NaN</td>\n",
       "      <td>NaN</td>\n",
       "      <td>NaN</td>\n",
       "    </tr>\n",
       "    <tr>\n",
       "      <th>gene3</th>\n",
       "      <td>NaN</td>\n",
       "      <td>NaN</td>\n",
       "      <td>NaN</td>\n",
       "      <td>NaN</td>\n",
       "      <td>NaN</td>\n",
       "      <td>NaN</td>\n",
       "      <td>NaN</td>\n",
       "      <td>NaN</td>\n",
       "      <td>NaN</td>\n",
       "      <td>NaN</td>\n",
       "    </tr>\n",
       "    <tr>\n",
       "      <th>gene4</th>\n",
       "      <td>NaN</td>\n",
       "      <td>NaN</td>\n",
       "      <td>NaN</td>\n",
       "      <td>NaN</td>\n",
       "      <td>NaN</td>\n",
       "      <td>NaN</td>\n",
       "      <td>NaN</td>\n",
       "      <td>NaN</td>\n",
       "      <td>NaN</td>\n",
       "      <td>NaN</td>\n",
       "    </tr>\n",
       "    <tr>\n",
       "      <th>gene5</th>\n",
       "      <td>NaN</td>\n",
       "      <td>NaN</td>\n",
       "      <td>NaN</td>\n",
       "      <td>NaN</td>\n",
       "      <td>NaN</td>\n",
       "      <td>NaN</td>\n",
       "      <td>NaN</td>\n",
       "      <td>NaN</td>\n",
       "      <td>NaN</td>\n",
       "      <td>NaN</td>\n",
       "    </tr>\n",
       "  </tbody>\n",
       "</table>\n",
       "</div>"
      ],
      "text/plain": [
       "       wt1  wt2  wt3  wt4  wt5  ko1  ko2  ko3  ko4  ko5\n",
       "gene1  NaN  NaN  NaN  NaN  NaN  NaN  NaN  NaN  NaN  NaN\n",
       "gene2  NaN  NaN  NaN  NaN  NaN  NaN  NaN  NaN  NaN  NaN\n",
       "gene3  NaN  NaN  NaN  NaN  NaN  NaN  NaN  NaN  NaN  NaN\n",
       "gene4  NaN  NaN  NaN  NaN  NaN  NaN  NaN  NaN  NaN  NaN\n",
       "gene5  NaN  NaN  NaN  NaN  NaN  NaN  NaN  NaN  NaN  NaN"
      ]
     },
     "execution_count": 4,
     "metadata": {},
     "output_type": "execute_result"
    }
   ],
   "source": [
    "genes = ['gene'+str(i) for i in range(1,101)]\n",
    "wt = ['wt' + str(i) for i in range(1,6) ]\n",
    "ko = ['ko' + str(i) for i in range(1,6) ]\n",
    "# create a data frame from above data\n",
    "data = pd.DataFrame(columns=[*wt, *ko], index = genes)\n",
    "data.head()"
   ]
  },
  {
   "cell_type": "code",
   "execution_count": 11,
   "metadata": {},
   "outputs": [
    {
     "name": "stdout",
     "output_type": "stream",
     "text": [
      "created data of shape (100, 10)\n"
     ]
    },
    {
     "data": {
      "text/html": [
       "<div>\n",
       "<style scoped>\n",
       "    .dataframe tbody tr th:only-of-type {\n",
       "        vertical-align: middle;\n",
       "    }\n",
       "\n",
       "    .dataframe tbody tr th {\n",
       "        vertical-align: top;\n",
       "    }\n",
       "\n",
       "    .dataframe thead th {\n",
       "        text-align: right;\n",
       "    }\n",
       "</style>\n",
       "<table border=\"1\" class=\"dataframe\">\n",
       "  <thead>\n",
       "    <tr style=\"text-align: right;\">\n",
       "      <th></th>\n",
       "      <th>wt1</th>\n",
       "      <th>wt2</th>\n",
       "      <th>wt3</th>\n",
       "      <th>wt4</th>\n",
       "      <th>wt5</th>\n",
       "      <th>ko1</th>\n",
       "      <th>ko2</th>\n",
       "      <th>ko3</th>\n",
       "      <th>ko4</th>\n",
       "      <th>ko5</th>\n",
       "    </tr>\n",
       "  </thead>\n",
       "  <tbody>\n",
       "    <tr>\n",
       "      <th>gene1</th>\n",
       "      <td>891</td>\n",
       "      <td>874</td>\n",
       "      <td>918</td>\n",
       "      <td>850</td>\n",
       "      <td>900</td>\n",
       "      <td>984</td>\n",
       "      <td>984</td>\n",
       "      <td>999</td>\n",
       "      <td>1060</td>\n",
       "      <td>1028</td>\n",
       "    </tr>\n",
       "    <tr>\n",
       "      <th>gene2</th>\n",
       "      <td>481</td>\n",
       "      <td>500</td>\n",
       "      <td>464</td>\n",
       "      <td>485</td>\n",
       "      <td>474</td>\n",
       "      <td>788</td>\n",
       "      <td>778</td>\n",
       "      <td>737</td>\n",
       "      <td>787</td>\n",
       "      <td>733</td>\n",
       "    </tr>\n",
       "    <tr>\n",
       "      <th>gene3</th>\n",
       "      <td>436</td>\n",
       "      <td>462</td>\n",
       "      <td>440</td>\n",
       "      <td>463</td>\n",
       "      <td>457</td>\n",
       "      <td>646</td>\n",
       "      <td>636</td>\n",
       "      <td>621</td>\n",
       "      <td>633</td>\n",
       "      <td>595</td>\n",
       "    </tr>\n",
       "    <tr>\n",
       "      <th>gene4</th>\n",
       "      <td>952</td>\n",
       "      <td>994</td>\n",
       "      <td>927</td>\n",
       "      <td>1037</td>\n",
       "      <td>982</td>\n",
       "      <td>758</td>\n",
       "      <td>817</td>\n",
       "      <td>854</td>\n",
       "      <td>787</td>\n",
       "      <td>794</td>\n",
       "    </tr>\n",
       "    <tr>\n",
       "      <th>gene5</th>\n",
       "      <td>777</td>\n",
       "      <td>749</td>\n",
       "      <td>755</td>\n",
       "      <td>683</td>\n",
       "      <td>706</td>\n",
       "      <td>643</td>\n",
       "      <td>677</td>\n",
       "      <td>641</td>\n",
       "      <td>630</td>\n",
       "      <td>639</td>\n",
       "    </tr>\n",
       "  </tbody>\n",
       "</table>\n",
       "</div>"
      ],
      "text/plain": [
       "       wt1  wt2  wt3   wt4  wt5  ko1  ko2  ko3   ko4   ko5\n",
       "gene1  891  874  918   850  900  984  984  999  1060  1028\n",
       "gene2  481  500  464   485  474  788  778  737   787   733\n",
       "gene3  436  462  440   463  457  646  636  621   633   595\n",
       "gene4  952  994  927  1037  982  758  817  854   787   794\n",
       "gene5  777  749  755   683  706  643  677  641   630   639"
      ]
     },
     "execution_count": 11,
     "metadata": {},
     "output_type": "execute_result"
    }
   ],
   "source": [
    "for gene in data.index:\n",
    "    data.loc[gene, 'wt1':'wt5'] = np.random.poisson(lam = rd.randrange(10,1000), size=5)\n",
    "    data.loc[gene, 'ko1':'ko5'] = np.random.poisson(lam = rd.randrange(10,1000), size=5)\n",
    "print(f'created data of shape {data.shape}')\n",
    "data.head()"
   ]
  },
  {
   "cell_type": "markdown",
   "metadata": {},
   "source": [
    "<h1> Now we do PCA </h1>"
   ]
  },
  {
   "cell_type": "code",
   "execution_count": 12,
   "metadata": {},
   "outputs": [],
   "source": [
    "# first we preprocess the data\n",
    "# we do 2 things\n",
    "# calculate the mean of the data and center it there\n",
    "# calculate the standard deviation for each gene and scale it by it to make sure they are on the same scale\n",
    "scaled_data = preprocessing.scale(data.T)"
   ]
  },
  {
   "cell_type": "code",
   "execution_count": 13,
   "metadata": {},
   "outputs": [],
   "source": [
    "# we can use the object PCA once trained on another dataset\n",
    "pca = PCA()\n",
    "pca.fit(scaled_data)\n",
    "pca_data = pca.transform(scaled_data)"
   ]
  },
  {
   "cell_type": "code",
   "execution_count": 15,
   "metadata": {},
   "outputs": [
    {
     "data": {
      "text/plain": [
       "array([0.9, 0. , 0. , 0. , 0. , 0. , 0. , 0. , 0. , 0. ])"
      ]
     },
     "execution_count": 15,
     "metadata": {},
     "output_type": "execute_result"
    }
   ],
   "source": [
    "per_var = np.round(pca.explained_variance_ratio_, decimals = 1)\n",
    "per_var"
   ]
  },
  {
   "cell_type": "code",
   "execution_count": 16,
   "metadata": {},
   "outputs": [
    {
     "data": {
      "image/png": "[encoded data removed]",
      "text/plain": [
       "<Figure size 432x288 with 1 Axes>"
      ]
     },
     "metadata": {
      "needs_background": "light"
     },
     "output_type": "display_data"
    }
   ],
   "source": [
    "# plot\n",
    "labels = ['PC' + str(x) for x in range(1, len(per_var)+1)]    \n",
    "plt.bar(x=range(1, len(per_var)+1), height=per_var, tick_label=labels)\n",
    "plt.ylabel(\"Percentage of Explained Variance\")    \n",
    "plt.xlabel(\"Principal Component\")    \n",
    "plt.title(\"Scree Plot\")    \n",
    "plt.show()"
   ]
  },
  {
   "cell_type": "code",
   "execution_count": 17,
   "metadata": {},
   "outputs": [
    {
     "data": {
      "text/html": [
       "<div>\n",
       "<style scoped>\n",
       "    .dataframe tbody tr th:only-of-type {\n",
       "        vertical-align: middle;\n",
       "    }\n",
       "\n",
       "    .dataframe tbody tr th {\n",
       "        vertical-align: top;\n",
       "    }\n",
       "\n",
       "    .dataframe thead th {\n",
       "        text-align: right;\n",
       "    }\n",
       "</style>\n",
       "<table border=\"1\" class=\"dataframe\">\n",
       "  <thead>\n",
       "    <tr style=\"text-align: right;\">\n",
       "      <th></th>\n",
       "      <th>PC1</th>\n",
       "      <th>PC2</th>\n",
       "      <th>PC3</th>\n",
       "      <th>PC4</th>\n",
       "      <th>PC5</th>\n",
       "      <th>PC6</th>\n",
       "      <th>PC7</th>\n",
       "      <th>PC8</th>\n",
       "      <th>PC9</th>\n",
       "      <th>PC10</th>\n",
       "    </tr>\n",
       "  </thead>\n",
       "  <tbody>\n",
       "    <tr>\n",
       "      <th>wt1</th>\n",
       "      <td>-9.435053</td>\n",
       "      <td>3.566521</td>\n",
       "      <td>0.456214</td>\n",
       "      <td>-0.382392</td>\n",
       "      <td>-1.561538</td>\n",
       "      <td>-0.164304</td>\n",
       "      <td>-0.087042</td>\n",
       "      <td>-0.624733</td>\n",
       "      <td>0.291424</td>\n",
       "      <td>2.958988e-15</td>\n",
       "    </tr>\n",
       "    <tr>\n",
       "      <th>wt2</th>\n",
       "      <td>-9.665941</td>\n",
       "      <td>-1.272562</td>\n",
       "      <td>-0.569757</td>\n",
       "      <td>-2.022348</td>\n",
       "      <td>0.459717</td>\n",
       "      <td>-1.193931</td>\n",
       "      <td>0.556495</td>\n",
       "      <td>-0.401447</td>\n",
       "      <td>-0.755480</td>\n",
       "      <td>1.152450e-15</td>\n",
       "    </tr>\n",
       "    <tr>\n",
       "      <th>wt3</th>\n",
       "      <td>-9.197835</td>\n",
       "      <td>-1.337586</td>\n",
       "      <td>-0.352260</td>\n",
       "      <td>1.093276</td>\n",
       "      <td>-1.523213</td>\n",
       "      <td>1.130824</td>\n",
       "      <td>-0.700045</td>\n",
       "      <td>0.445829</td>\n",
       "      <td>-0.811877</td>\n",
       "      <td>4.836496e-16</td>\n",
       "    </tr>\n",
       "    <tr>\n",
       "      <th>wt4</th>\n",
       "      <td>-9.706687</td>\n",
       "      <td>-0.716397</td>\n",
       "      <td>0.471982</td>\n",
       "      <td>2.268561</td>\n",
       "      <td>1.088789</td>\n",
       "      <td>0.144064</td>\n",
       "      <td>1.324868</td>\n",
       "      <td>-0.400589</td>\n",
       "      <td>0.440825</td>\n",
       "      <td>2.030582e-15</td>\n",
       "    </tr>\n",
       "    <tr>\n",
       "      <th>wt5</th>\n",
       "      <td>-9.467553</td>\n",
       "      <td>-0.207823</td>\n",
       "      <td>-0.064247</td>\n",
       "      <td>-0.902217</td>\n",
       "      <td>1.494568</td>\n",
       "      <td>0.071547</td>\n",
       "      <td>-1.138578</td>\n",
       "      <td>1.007093</td>\n",
       "      <td>0.821760</td>\n",
       "      <td>1.769631e-15</td>\n",
       "    </tr>\n",
       "  </tbody>\n",
       "</table>\n",
       "</div>"
      ],
      "text/plain": [
       "          PC1       PC2       PC3       PC4       PC5       PC6       PC7  \\\n",
       "wt1 -9.435053  3.566521  0.456214 -0.382392 -1.561538 -0.164304 -0.087042   \n",
       "wt2 -9.665941 -1.272562 -0.569757 -2.022348  0.459717 -1.193931  0.556495   \n",
       "wt3 -9.197835 -1.337586 -0.352260  1.093276 -1.523213  1.130824 -0.700045   \n",
       "wt4 -9.706687 -0.716397  0.471982  2.268561  1.088789  0.144064  1.324868   \n",
       "wt5 -9.467553 -0.207823 -0.064247 -0.902217  1.494568  0.071547 -1.138578   \n",
       "\n",
       "          PC8       PC9          PC10  \n",
       "wt1 -0.624733  0.291424  2.958988e-15  \n",
       "wt2 -0.401447 -0.755480  1.152450e-15  \n",
       "wt3  0.445829 -0.811877  4.836496e-16  \n",
       "wt4 -0.400589  0.440825  2.030582e-15  \n",
       "wt5  1.007093  0.821760  1.769631e-15  "
      ]
     },
     "execution_count": 17,
     "metadata": {},
     "output_type": "execute_result"
    }
   ],
   "source": [
    "# now create a dataframe from new data \n",
    "pca_df = pd.DataFrame(pca_data, index=[*wt, *ko], columns=labels)    \n",
    "pca_df.head()"
   ]
  },
  {
   "cell_type": "code",
   "execution_count": 19,
   "metadata": {},
   "outputs": [
    {
     "data": {
      "image/png": "[encoded data removed]",
      "text/plain": [
       "<Figure size 432x288 with 1 Axes>"
      ]
     },
     "metadata": {
      "needs_background": "light"
     },
     "output_type": "display_data"
    }
   ],
   "source": [
    "plt.scatter(pca_df.PC1, pca_df.PC2)\n",
    "plt.title(\"My PCA Graph\")    \n",
    "plt.xlabel(f\"PC1 - {per_var[0]}%\")    \n",
    "plt.ylabel(f\"PC2 - {per_var[1]}%\")    \n",
    "for sample in pca_df.index:    \n",
    "    plt.annotate(sample, (pca_df.PC1.loc[sample], pca_df.PC2.loc[sample]))    \n",
    "plt.show()  "
   ]
  },
  {
   "cell_type": "markdown",
   "metadata": {},
   "source": [
    "Now let's look at the loading scores to see which genes had the largest influence"
   ]
  },
  {
   "cell_type": "code",
   "execution_count": 20,
   "metadata": {},
   "outputs": [
    {
     "name": "stdout",
     "output_type": "stream",
     "text": [
      "gene17    0.105232\n",
      "gene9     0.105226\n",
      "gene74    0.105221\n",
      "gene6    -0.105216\n",
      "gene53    0.105214\n",
      "gene15   -0.105213\n",
      "gene8     0.105207\n",
      "gene34   -0.105203\n",
      "gene89    0.105172\n",
      "gene85    0.105159\n",
      "dtype: float64\n"
     ]
    }
   ],
   "source": [
    "loading_scores = pd.Series(pca.components_[0], index = genes)\n",
    "sorted_loading_scores = loading_scores.abs().sort_values(ascending=False)\n",
    "top_10_genes = sorted_loading_scores[0:10].index.values\n",
    "print(loading_scores[top_10_genes])"
   ]
  },
  {
   "cell_type": "code",
   "execution_count": 21,
   "metadata": {},
   "outputs": [],
   "source": [
    "# Conclusion a lot of genes paid role in separating the samples"
   ]
  },
  {
   "cell_type": "code",
   "execution_count": null,
   "metadata": {},
   "outputs": [],
   "source": []
  }
 ],
 "metadata": {
  "kernelspec": {
   "display_name": "Python 3.8.2 64-bit",
   "language": "python",
   "name": "python38264bitdfe27779e65d4ce78c50215d9a482569"
  },
  "language_info": {
   "codemirror_mode": {
    "name": "ipython",
    "version": 3
   },
   "file_extension": ".py",
   "mimetype": "text/x-python",
   "name": "python",
   "nbconvert_exporter": "python",
   "pygments_lexer": "ipython3",
   "version": "3.8.5"
  }
 },
 "nbformat": 4,
 "nbformat_minor": 4
}
