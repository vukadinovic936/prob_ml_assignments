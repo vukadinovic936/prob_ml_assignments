{
 "cells": [
  {
   "cell_type": "code",
   "execution_count": 1,
   "metadata": {},
   "outputs": [
    {
     "data": {
      "image/png": "[encoded data removed]",
      "text/plain": [
       "<Figure size 432x288 with 1 Axes>"
      ]
     },
     "metadata": {
      "needs_background": "light"
     },
     "output_type": "display_data"
    }
   ],
   "source": [
    "%matplotlib inline\n",
    "import numpy as np\n",
    "import matplotlib.pyplot as plt\n",
    "import math \n",
    "\n",
    "N = 100 \n",
    "\n",
    "x = np.random.rand(int(N/2),1)/3\n",
    "y = np.random.randn(int(N/2),1)/3\n",
    "\n",
    "x2 = np.random.rand(int(N/2),1)\n",
    "y2 = np.random.rand(int(N/2),1)\n",
    "\n",
    "x = np.concatenate((x,x2))\n",
    "y = np.concatenate((y,y2))\n",
    "\n",
    "\n",
    "data = np.concatenate((x,y),axis=1)\n",
    "data = data.reshape((N,2))\n",
    "\n",
    "plt.scatter(x, y, color='b', marker='o')\n",
    "plt.show()"
   ]
  },
  {
   "cell_type": "code",
   "execution_count": 2,
   "metadata": {},
   "outputs": [
    {
     "name": "stdout",
     "output_type": "stream",
     "text": [
      "[[0.63112116 0.73972985]\n",
      " [0.43402612 0.08677698]\n",
      " [0.28828734 0.84830666]]\n"
     ]
    },
    {
     "data": {
      "image/png": "[encoded data removed]",
      "text/plain": [
       "<Figure size 432x288 with 1 Axes>"
      ]
     },
     "metadata": {
      "needs_background": "light"
     },
     "output_type": "display_data"
    }
   ],
   "source": [
    "#number of clusters\n",
    "K = 3\n",
    "# randomly initialize cluster \"heads\"\n",
    "x_res = np.random.rand(K,1)\n",
    "y_res = np.random.rand(K,1)\n",
    "m = np.concatenate((x_res, y_res), axis=1)\n",
    "m = m.reshape(K,2)\n",
    "print(m)\n",
    "colors = ['r','b','g','k','c','m','y']\n",
    "for i in range(K):\n",
    "    plt.scatter(x_res[i],y_res[i], color=colors[i],marker='o')"
   ]
  },
  {
   "cell_type": "code",
   "execution_count": 3,
   "metadata": {},
   "outputs": [],
   "source": [
    "def dist(a,b):\n",
    "    return np.sqrt((a[0]-b[0])**2 + (a[1]-b[1])**2)**2\n",
    "    "
   ]
  },
  {
   "cell_type": "code",
   "execution_count": 4,
   "metadata": {},
   "outputs": [
    {
     "data": {
      "text/plain": [
       "[array([0.8222538 , 0.93593711, 0.8147855 , 0.58367747, 0.9793049 ,\n",
       "        0.60971777, 0.59726374, 0.40659009, 0.72494827, 0.64058399,\n",
       "        0.39861567, 0.51084449, 0.86244759, 0.86723156, 0.96590979,\n",
       "        0.89914279, 0.85075336, 0.96267391, 0.78672856, 0.92417116,\n",
       "        0.90818455, 0.38215297, 0.9748068 , 0.76411162, 0.95691464,\n",
       "        0.77016214, 0.55151137, 0.8671296 , 0.73348462, 0.38148522,\n",
       "        0.97960841, 0.3146152 , 0.68498461, 0.73914683, 0.95281683,\n",
       "        0.42067629]),\n",
       " array([ 6.90846501e-02, -2.86889532e-01,  3.01412674e-01,  2.98874380e-01,\n",
       "         4.55581347e-02, -1.39366536e-01,  7.25557018e-03, -2.64821897e-01,\n",
       "         1.02190918e-01, -3.58835003e-01,  1.06544306e-01,  2.91350055e-02,\n",
       "         2.06423969e-01, -2.96012494e-01,  2.03727145e-01,  4.95132632e-02,\n",
       "         1.76911111e-01, -5.54487914e-02,  3.22171791e-01,  2.54277500e-01,\n",
       "         2.84105909e-01,  4.28426049e-02,  1.17781510e-01, -4.20275895e-01,\n",
       "         1.77884705e-01,  2.67480754e-02,  3.14543926e-01, -2.06065709e-01,\n",
       "         8.06004633e-02, -5.04383856e-01,  7.11241003e-02,  3.41297558e-01,\n",
       "         9.27075853e-02,  6.72520953e-02,  2.93554214e-01, -2.62805086e-02,\n",
       "         2.01861317e-01, -1.26104111e-01,  8.72174365e-02, -2.95355964e-01,\n",
       "         1.42715254e-01, -2.03978445e-01,  1.03278618e-01,  1.11957930e-01,\n",
       "         1.19730262e-01, -5.34391826e-01,  1.33077560e-01, -2.82006593e-01,\n",
       "         2.73733363e-01, -4.24343557e-01,  1.85466137e-01, -7.47894275e-02,\n",
       "         2.49332201e-04, -4.83554537e-01,  2.52330447e-02,  1.46085287e-03,\n",
       "         1.87066460e-01, -3.07699531e-01,  2.28317278e-01,  2.10005698e-01,\n",
       "         2.21803723e-01,  1.26373402e-01,  1.90386515e-02, -3.20464883e-01,\n",
       "         1.09151130e-01, -2.75214365e-01,  9.37345998e-02,  1.73621090e-01,\n",
       "         1.99868698e-01, -2.20490115e-01,  1.52586424e-01,  3.13360731e-01,\n",
       "         2.13247362e-01, -3.85164210e-01,  2.04868118e-01,  1.68257155e-01,\n",
       "         3.14398094e-01, -6.70913315e-02,  3.18322008e-01,  4.56693650e-01,\n",
       "         1.63220401e-01, -6.10873510e-01,  7.81054754e-03, -2.39788565e-01,\n",
       "         2.06214740e-02, -8.41812252e-03,  1.76528857e-01,  2.24758570e-02,\n",
       "         8.39860334e-01,  3.12895423e-01,  2.29091716e-01,  2.86670905e-01,\n",
       "         6.54655283e-01,  3.65434821e-01,  7.58605404e-01,  2.31244068e-01,\n",
       "         2.11695969e-01,  1.10469177e-01,  7.70571927e-01,  1.53422856e-01,\n",
       "         3.90290632e-01,  6.19689042e-02,  8.00393626e-01,  3.27112404e-01,\n",
       "         3.93106970e-01,  4.74596590e-02,  3.51191053e-01,  1.50619908e-01,\n",
       "         5.54565997e-02,  1.55857706e-01,  8.53887901e-01,  2.82219684e-01,\n",
       "         8.66308339e-01,  1.98075932e-02,  1.12504952e-01,  4.07975439e-01,\n",
       "         2.85245469e-02,  2.21999803e-01,  5.78471523e-01,  3.38756016e-01,\n",
       "         3.02266722e-01,  3.58318740e-01,  2.10171421e-01,  3.31157361e-01]),\n",
       " array([0.09436514, 0.49574923, 0.03945302, 0.55145676, 0.27442134,\n",
       "        0.79533726, 0.07691968, 0.6561088 , 0.1872788 , 0.4884333 ,\n",
       "        0.04971432, 0.48928996, 0.22998558, 0.51918625, 0.44220028,\n",
       "        0.79960913, 0.26129093, 0.47689346, 0.2814318 , 0.5695147 ,\n",
       "        0.1346736 , 0.64188863, 0.29431209, 0.94088028, 0.29295788,\n",
       "        0.97413094, 0.04993959, 0.91998735, 0.07902523, 0.9366763 ,\n",
       "        0.14627485, 0.75925861, 0.00176645, 0.44482648, 0.01498715,\n",
       "        0.47322724, 0.2968599 , 0.96518583, 0.03831325, 0.78914056])]"
      ]
     },
     "execution_count": 4,
     "metadata": {},
     "output_type": "execute_result"
    }
   ],
   "source": [
    "# should have K elements each array\n",
    "clusters = []\n",
    "\n",
    "for i in range(K):\n",
    "    clusters.append(np.array([]))\n",
    "    \n",
    "for p in data:\n",
    "    dists = np.zeros(K)\n",
    "    for idx,rp in enumerate(m):\n",
    "        dists[idx] = dist(p,rp)\n",
    "        \n",
    "    clusters[np.argmin(dists)] = np.append(clusters[np.argmin(dists)],np.array(p))\n",
    "\n",
    "clusters"
   ]
  },
  {
   "cell_type": "code",
   "execution_count": 5,
   "metadata": {},
   "outputs": [],
   "source": [
    "new = []\n",
    "\n",
    "for i in range(K):\n",
    "    new.append(np.array([]))\n",
    "    \n",
    "for i in range(K):\n",
    "    new[i] = clusters[i].reshape(int(len(clusters[i])/2),2)\n"
   ]
  },
  {
   "cell_type": "code",
   "execution_count": 8,
   "metadata": {},
   "outputs": [
    {
     "data": {
      "image/png": "[encoded data removed]",
      "text/plain": [
       "<Figure size 432x288 with 1 Axes>"
      ]
     },
     "metadata": {
      "needs_background": "light"
     },
     "output_type": "display_data"
    }
   ],
   "source": [
    "fig=plt.figure()\n",
    "#plt.figure(figsize=(4, 8), dpi=80)\n",
    "#ax=fig.add_axes([-2,-2,2,2])\n",
    "for i in range(K):\n",
    "    plt.scatter(new[i][:,0],new[i][:,1], color=colors[i],marker='o')\n",
    "    plt.scatter(x_res[i],y_res[i], color=colors[i],marker='P')\n"
   ]
  },
  {
   "cell_type": "code",
   "execution_count": 160,
   "metadata": {},
   "outputs": [],
   "source": []
  },
  {
   "cell_type": "code",
   "execution_count": 7,
   "metadata": {},
   "outputs": [],
   "source": [
    "for i in range(100):\n",
    "        # should have K elements each array\n",
    "    clusters = []\n",
    "\n",
    "    for i in range(K):\n",
    "        clusters.append(np.array([]))\n",
    "\n",
    "    for p in data:\n",
    "        dists = np.zeros(K)\n",
    "        for idx,rp in enumerate(m):\n",
    "            dists[idx] = dist(p,rp)\n",
    "\n",
    "        clusters[np.argmin(dists)] = np.append(clusters[np.argmin(dists)],np.array(p))\n",
    "\n",
    "    new = []\n",
    "\n",
    "    for i in range(K):\n",
    "        new.append(np.array([]))\n",
    "    \n",
    "    for i in range(K):\n",
    "        new[i] = clusters[i].reshape(int(len(clusters[i])/2),2)\n",
    "        \n",
    "    for i in range(K):\n",
    "        x_res[i] = np.mean(new[i][:,0])\n",
    "        y_res[i] = np.mean(new[i][:,1])\n",
    "        m = np.concatenate((x_res, y_res), axis=1)\n",
    "        m = m.reshape(K,2)\n"
   ]
  },
  {
   "cell_type": "code",
   "execution_count": null,
   "metadata": {},
   "outputs": [],
   "source": []
  }
 ],
 "metadata": {
  "kernelspec": {
   "display_name": "Python 3.8.2 64-bit",
   "language": "python",
   "name": "python38264bitdfe27779e65d4ce78c50215d9a482569"
  },
  "language_info": {
   "codemirror_mode": {
    "name": "ipython",
    "version": 3
   },
   "file_extension": ".py",
   "mimetype": "text/x-python",
   "name": "python",
   "nbconvert_exporter": "python",
   "pygments_lexer": "ipython3",
   "version": "3.8.2"
  }
 },
 "nbformat": 4,
 "nbformat_minor": 2
}
