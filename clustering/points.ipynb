{
 "cells": [
  {
   "cell_type": "code",
   "execution_count": 1,
   "metadata": {},
   "outputs": [
    {
     "data": {
      "image/png": "[encoded data removed]",
      "text/plain": [
       "<Figure size 432x288 with 1 Axes>"
      ]
     },
     "metadata": {
      "needs_background": "light"
     },
     "output_type": "display_data"
    }
   ],
   "source": [
    "%matplotlib inline\n",
    "import numpy as np\n",
    "import matplotlib.pyplot as plt\n",
    "import math \n",
    "\n",
    "N = 100 \n",
    "\n",
    "x = np.random.rand(int(N/2),1)/3\n",
    "y = np.random.randn(int(N/2),1)/3\n",
    "\n",
    "x2 = np.random.rand(int(N/2),1)\n",
    "y2 = np.random.rand(int(N/2),1)\n",
    "\n",
    "x = np.concatenate((x,x2))\n",
    "y = np.concatenate((y,y2))\n",
    "\n",
    "\n",
    "data = np.concatenate((x,y),axis=1)\n",
    "data = data.reshape((N,2))\n",
    "\n",
    "plt.scatter(x, y, color='b', marker='o')\n",
    "plt.show()"
   ]
  },
  {
   "cell_type": "code",
   "execution_count": 2,
   "metadata": {},
   "outputs": [
    {
     "name": "stdout",
     "output_type": "stream",
     "text": [
      "[[0.83087145 0.56897142]\n",
      " [0.50511609 0.29143293]\n",
      " [0.44876822 0.19519062]\n",
      " [0.57735814 0.6925021 ]\n",
      " [0.70437219 0.11504895]]\n"
     ]
    },
    {
     "data": {
      "image/png": "[encoded data removed]",
      "text/plain": [
       "<Figure size 432x288 with 1 Axes>"
      ]
     },
     "metadata": {
      "needs_background": "light"
     },
     "output_type": "display_data"
    }
   ],
   "source": [
    "#number of clusters\n",
    "K = 5\n",
    "# randomly initialize cluster \"heads\"\n",
    "x_res = np.random.rand(K,1)\n",
    "y_res = np.random.rand(K,1)\n",
    "m = np.concatenate((x_res, y_res), axis=1)\n",
    "m = m.reshape(K,2)\n",
    "print(m)\n",
    "colors = ['r','b','g','k','c','m','y']\n",
    "for i in range(K):\n",
    "    plt.scatter(x_res[i],y_res[i], color=colors[i],marker='o')"
   ]
  },
  {
   "cell_type": "code",
   "execution_count": 3,
   "metadata": {},
   "outputs": [],
   "source": [
    "def dist(a,b):\n",
    "    return np.sqrt((a[0]-b[0])**2 + (a[1]-b[1])**2)**2\n",
    "    "
   ]
  },
  {
   "cell_type": "code",
   "execution_count": 4,
   "metadata": {},
   "outputs": [
    {
     "data": {
      "text/plain": [
       "[array([0.85624485, 0.80325465, 0.74660616, 0.50279139, 0.88038645,\n",
       "        0.94432208, 0.9728842 , 0.7417779 ]),\n",
       " array([0.13477422, 0.47665455, 0.24514974, 0.47113086, 0.07720805,\n",
       "        0.53249261, 0.0799364 , 0.49820624, 0.28770959, 0.3700794 ,\n",
       "        0.23439982, 0.47766307, 0.23893358, 0.5010496 , 0.16508983,\n",
       "        0.54949121, 0.33789215, 0.45923646, 0.53611609, 0.23086067,\n",
       "        0.30081813, 0.50140485, 0.70167499, 0.33747202, 0.67818752,\n",
       "        0.40977076, 0.58142063, 0.30699286, 0.35303746, 0.50999407]),\n",
       " array([ 0.20089575,  0.20523816,  0.05639575, -0.07735319,  0.03342404,\n",
       "        -0.62283207,  0.03722183,  0.24533677,  0.03388895,  0.00959768,\n",
       "         0.17328559, -0.28182138,  0.26849965, -0.18789001,  0.06036927,\n",
       "         0.25786585,  0.24252824, -0.4516733 ,  0.29079557, -0.00394697,\n",
       "         0.13997804,  0.23390207,  0.07202028, -0.21271413,  0.17321137,\n",
       "         0.34297312,  0.03187846,  0.13185364,  0.09850243, -0.85623636,\n",
       "         0.32302892,  0.27427333,  0.25000425, -0.74874423,  0.04629817,\n",
       "        -0.03858284,  0.30424852,  0.23146005,  0.05638294, -0.05711346,\n",
       "         0.23467053, -0.51161797,  0.25095972, -0.420071  ,  0.15574638,\n",
       "        -0.43995893,  0.17210629,  0.33621268,  0.14226029,  0.20740393,\n",
       "         0.17670115,  0.39521675,  0.04200189,  0.00448025,  0.12826624,\n",
       "        -0.43766874,  0.29979399,  0.05597197,  0.04483094, -0.24077605,\n",
       "         0.16825056, -0.22691943,  0.20418296,  0.08711612,  0.18187747,\n",
       "        -0.04587379,  0.24377594,  0.28124892,  0.32982695, -0.01088379,\n",
       "         0.30300848,  0.20154811,  0.0309311 , -0.14453507,  0.15398259,\n",
       "         0.30221588,  0.18420506,  0.12986152,  0.28880469, -0.3456725 ,\n",
       "         0.07662578, -0.54053581,  0.05998249, -0.06890431,  0.41397253,\n",
       "         0.15616706,  0.37821732,  0.02975651,  0.31629565,  0.21314715,\n",
       "         0.31172327,  0.11794777,  0.33186989,  0.14460992,  0.23819192,\n",
       "         0.33427603,  0.23925866,  0.00429844,  0.09978203,  0.42711904,\n",
       "         0.16148613,  0.15400576,  0.1146958 ,  0.30221495]),\n",
       " array([0.84248237, 0.98710523, 0.4518154 , 0.58840738, 0.0994827 ,\n",
       "        0.87942265, 0.15581647, 0.92727825, 0.56207319, 0.82197226,\n",
       "        0.63734005, 0.86477565, 0.25827185, 0.90352361, 0.84188666,\n",
       "        0.96210623, 0.25704217, 0.80410198, 0.35201205, 0.63275345,\n",
       "        0.35423094, 0.97010969, 0.36501321, 0.95847565, 0.11552717,\n",
       "        0.7535372 , 0.57379158, 0.99989369, 0.03860031, 0.92669292,\n",
       "        0.64421859, 0.92350887, 0.47718773, 0.64620081, 0.06856365,\n",
       "        0.85417394, 0.78642554, 0.93664458, 0.52594337, 0.63210525,\n",
       "        0.7285213 , 0.8723366 , 0.54332619, 0.5281919 , 0.27250162,\n",
       "        0.67608138]),\n",
       " array([0.81406592, 0.07092563, 0.65863083, 0.25315437, 0.97936381,\n",
       "        0.05336552, 0.91221491, 0.22795279, 0.92478009, 0.07377072,\n",
       "        0.96649169, 0.25943323])]"
      ]
     },
     "execution_count": 4,
     "metadata": {},
     "output_type": "execute_result"
    }
   ],
   "source": [
    "# should have K elements each array\n",
    "clusters = []\n",
    "\n",
    "for i in range(K):\n",
    "    clusters.append(np.array([]))\n",
    "    \n",
    "for p in data:\n",
    "    dists = np.zeros(K)\n",
    "    for idx,rp in enumerate(m):\n",
    "        dists[idx] = dist(p,rp)\n",
    "        \n",
    "    clusters[np.argmin(dists)] = np.append(clusters[np.argmin(dists)],np.array(p))\n",
    "\n",
    "clusters"
   ]
  },
  {
   "cell_type": "code",
   "execution_count": 5,
   "metadata": {},
   "outputs": [],
   "source": [
    "new = []\n",
    "\n",
    "for i in range(K):\n",
    "    new.append(np.array([]))\n",
    "    \n",
    "for i in range(K):\n",
    "    new[i] = clusters[i].reshape(int(len(clusters[i])/2),2)\n"
   ]
  },
  {
   "cell_type": "code",
   "execution_count": 14,
   "metadata": {},
   "outputs": [
    {
     "data": {
      "image/png": "[encoded data removed]",
      "text/plain": [
       "<Figure size 432x288 with 1 Axes>"
      ]
     },
     "metadata": {
      "needs_background": "light"
     },
     "output_type": "display_data"
    }
   ],
   "source": [
    "fig=plt.figure()\n",
    "#plt.figure(figsize=(4, 8), dpi=80)\n",
    "#ax=fig.add_axes([-2,-2,2,2])\n",
    "for i in range(K):\n",
    "    plt.scatter(new[i][:,0],new[i][:,1], color=colors[i],marker='o')\n",
    "    plt.scatter(x_res[i],y_res[i], color=colors[i],marker='P')\n"
   ]
  },
  {
   "cell_type": "code",
   "execution_count": 160,
   "metadata": {},
   "outputs": [],
   "source": []
  },
  {
   "cell_type": "code",
   "execution_count": 13,
   "metadata": {},
   "outputs": [],
   "source": [
    "for i in range(100):\n",
    "        # should have K elements each array\n",
    "    clusters = []\n",
    "\n",
    "    for i in range(K):\n",
    "        clusters.append(np.array([]))\n",
    "\n",
    "    for p in data:\n",
    "        dists = np.zeros(K)\n",
    "        for idx,rp in enumerate(m):\n",
    "            dists[idx] = dist(p,rp)\n",
    "\n",
    "        clusters[np.argmin(dists)] = np.append(clusters[np.argmin(dists)],np.array(p))\n",
    "\n",
    "    new = []\n",
    "\n",
    "    for i in range(K):\n",
    "        new.append(np.array([]))\n",
    "    \n",
    "    for i in range(K):\n",
    "        new[i] = clusters[i].reshape(int(len(clusters[i])/2),2)\n",
    "        \n",
    "    for i in range(K):\n",
    "        x_res[i] = np.mean(new[i][:,0])\n",
    "        y_res[i] = np.mean(new[i][:,1])\n",
    "        m = np.concatenate((x_res, y_res), axis=1)\n",
    "        m = m.reshape(K,2)\n"
   ]
  },
  {
   "cell_type": "code",
   "execution_count": null,
   "metadata": {},
   "outputs": [],
   "source": []
  }
 ],
 "metadata": {
  "kernelspec": {
   "display_name": "Python 3.8.2 64-bit",
   "language": "python",
   "name": "python38264bitdfe27779e65d4ce78c50215d9a482569"
  },
  "language_info": {
   "codemirror_mode": {
    "name": "ipython",
    "version": 3
   },
   "file_extension": ".py",
   "mimetype": "text/x-python",
   "name": "python",
   "nbconvert_exporter": "python",
   "pygments_lexer": "ipython3",
   "version": "3.8.5"
  }
 },
 "nbformat": 4,
 "nbformat_minor": 2
}
