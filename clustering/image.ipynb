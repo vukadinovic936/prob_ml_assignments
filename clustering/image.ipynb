{
 "cells": [
  {
   "cell_type": "code",
   "execution_count": 26,
   "metadata": {},
   "outputs": [
    {
     "data": {
      "text/plain": [
       "(407044, 3)"
      ]
     },
     "execution_count": 26,
     "metadata": {},
     "output_type": "execute_result"
    }
   ],
   "source": [
    "%matplotlib inline\n",
    "import numpy as np\n",
    "import matplotlib.pyplot as plt\n",
    "from PIL import Image\n",
    "import math\n",
    "\n",
    "data = np.asarray(Image.open(\"index.png\").convert(\"RGB\"))\n",
    "\n",
    "data = data/255\n",
    "data = data.reshape(data.shape[0]*data.shape[1],3)\n",
    "data.shape"
   ]
  },
  {
   "cell_type": "code",
   "execution_count": 27,
   "metadata": {},
   "outputs": [
    {
     "name": "stdout",
     "output_type": "stream",
     "text": [
      "[[229.50741105 191.80488512 167.39856422]\n",
      " [229.5910327  214.0978074    6.75351489]\n",
      " [149.42817362 223.31311704 160.88080838]\n",
      " [178.87459882 247.39234982 130.60038447]\n",
      " [254.01891242   9.27900841 211.04124791]\n",
      " [143.56287755 106.19397263  83.04451615]\n",
      " [ 97.10159708 160.78186841 162.52260061]\n",
      " [254.3905982   44.5620992  135.70707505]\n",
      " [103.07904791 181.18551862 118.77244901]\n",
      " [ 14.87463534 126.79306902 244.27290914]]\n"
     ]
    }
   ],
   "source": [
    "#number of clusters\n",
    "K = 10\n",
    "# randomly initialize cluster \"heads\"\n",
    "x_res = np.random.rand(K,1)\n",
    "y_res = np.random.rand(K,1)\n",
    "z_res = np.random.rand(K,1)\n",
    "\n",
    "m = np.concatenate((x_res, y_res, z_res), axis=1)\n",
    "m = m.reshape(K,3)\n",
    "print(m*255)\n",
    "#colors = ['r','b','g','k','c','m','y']\n",
    "#for i in range(K):\n",
    "#    plt.scatter(x_res[i],y_res[i], color=colors[i],marker='o')"
   ]
  },
  {
   "cell_type": "code",
   "execution_count": 8,
   "metadata": {},
   "outputs": [
    {
     "data": {
      "image/png": "[encoded data removed]",
      "text/plain": [
       "<Figure size 432x288 with 1 Axes>"
      ]
     },
     "metadata": {
      "needs_background": "light"
     },
     "output_type": "display_data"
    }
   ],
   "source": [
    "for i in range(K):\n",
    "    import matplotlib.pyplot as plt\n",
    "    plt.imshow([[(0, 0, 1)]])\n",
    "    plt.imshow([(m[i][0], m[i][1], m[i][2])])\n",
    " #   plt.show()"
   ]
  },
  {
   "cell_type": "code",
   "execution_count": 28,
   "metadata": {},
   "outputs": [],
   "source": [
    "def dist(a,b):\n",
    "    if math.isnan(a[0]) or math.isnan(b[0]):\n",
    "        return 100000\n",
    "    return np.sqrt((a[0]-b[0])**2 + (a[1]-b[1])**2 + (a[2]-b[2])**2)**2"
   ]
  },
  {
   "cell_type": "code",
   "execution_count": 33,
   "metadata": {},
   "outputs": [],
   "source": [
    "new_img = np.zeros(data.shape)\n",
    "sum_in_cluster = np.zeros((K,3))\n",
    "points_in_cluster = np.zeros(K)\n",
    "for i,x in enumerate(data):\n",
    "        dists = np.zeros(K)\n",
    "        for idx,rp in enumerate(m):\n",
    "            dists[idx] = dist(x,rp)\n",
    "        new_img[i] = m[np.argmin(dists)]\n",
    "        \n",
    "        sum_in_cluster[np.argmin(dists)] += x\n",
    "        points_in_cluster[np.argmin(dists)]+=1\n",
    "\n"
   ]
  },
  {
   "cell_type": "code",
   "execution_count": 34,
   "metadata": {},
   "outputs": [
    {
     "data": {
      "text/plain": [
       "(638, 638, 3)"
      ]
     },
     "execution_count": 34,
     "metadata": {},
     "output_type": "execute_result"
    }
   ],
   "source": [
    "new_img.shape\n",
    "new_img = new_img.reshape((int(np.sqrt(new_img.shape[0])),int(np.sqrt(new_img.shape[0])),3))\n",
    "new_img.shape"
   ]
  },
  {
   "cell_type": "code",
   "execution_count": 35,
   "metadata": {},
   "outputs": [
    {
     "name": "stdout",
     "output_type": "stream",
     "text": [
      "0.0\n"
     ]
    },
    {
     "data": {
      "image/png": "[encoded data removed]",
      "text/plain": [
       "<PIL.Image.Image image mode=RGB size=638x638 at 0x7FDFC7C2FD00>"
      ]
     },
     "execution_count": 35,
     "metadata": {},
     "output_type": "execute_result"
    }
   ],
   "source": [
    "print(new_img[0][0][0]*255)\n",
    "im = Image.fromarray(np.uint8(new_img*255))\n",
    "im"
   ]
  },
  {
   "cell_type": "code",
   "execution_count": 32,
   "metadata": {},
   "outputs": [
    {
     "name": "stdout",
     "output_type": "stream",
     "text": [
      "(10, 3)\n",
      "(10,)\n",
      "[[9.25171178e-01 5.86390625e-01 5.05094698e-01]\n",
      " [           nan            nan            nan]\n",
      " [5.96078431e-01 6.82352941e-01 9.09803922e-01]\n",
      " [0.00000000e+00 0.00000000e+00 0.00000000e+00]\n",
      " [0.00000000e+00 0.00000000e+00 0.00000000e+00]\n",
      " [3.81486392e+04 2.88677765e+04 2.97363647e+04]\n",
      " [8.28399294e+04 1.07927024e+05 1.58241957e+05]\n",
      " [2.24909020e+03 1.07901961e+03 1.10225098e+03]\n",
      " [1.96470588e+00 1.78823529e+00 1.63137255e+00]\n",
      " [0.00000000e+00 0.00000000e+00 0.00000000e+00]]\n"
     ]
    },
    {
     "name": "stderr",
     "output_type": "stream",
     "text": [
      "<ipython-input-32-dad20416be89>:4: RuntimeWarning: invalid value encountered in true_divide\n",
      "  sum_in_cluster[k] = sum_in_cluster[k]/points_in_cluster[k]\n"
     ]
    }
   ],
   "source": [
    "print(sum_in_cluster.shape)\n",
    "print(points_in_cluster.shape)\n",
    "for k in range(len(sum_in_cluster.shape)):\n",
    "    sum_in_cluster[k] = sum_in_cluster[k]/points_in_cluster[k]\n",
    " \n",
    "m = sum_in_cluster\n",
    "print(m)"
   ]
  },
  {
   "cell_type": "code",
   "execution_count": 167,
   "metadata": {},
   "outputs": [
    {
     "name": "stdout",
     "output_type": "stream",
     "text": [
      "[[2.28061544e+02 9.66021181e+00 1.95126506e+02]\n",
      " [1.51464686e+02 9.97926460e-01 1.31932816e+02]\n",
      " [1.87385667e+07 2.28762512e+07 1.12920545e+07]\n",
      " [2.05340075e+07 3.63727102e+07 2.44007875e+07]\n",
      " [3.97281486e+06 6.20019621e+06 2.59381372e+06]]\n"
     ]
    }
   ],
   "source": []
  }
 ],
 "metadata": {
  "kernelspec": {
   "display_name": "Python 3",
   "language": "python",
   "name": "python3"
  },
  "language_info": {
   "codemirror_mode": {
    "name": "ipython",
    "version": 3
   },
   "file_extension": ".py",
   "mimetype": "text/x-python",
   "name": "python",
   "nbconvert_exporter": "python",
   "pygments_lexer": "ipython3",
   "version": "3.8.2"
  }
 },
 "nbformat": 4,
 "nbformat_minor": 4
}
