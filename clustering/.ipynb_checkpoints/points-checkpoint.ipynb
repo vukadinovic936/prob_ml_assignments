{
 "cells": [
  {
   "cell_type": "code",
   "execution_count": 4,
   "metadata": {},
   "outputs": [
    {
     "name": "stderr",
     "output_type": "stream",
     "text": [
      "/home/milos/.local/lib/python3.8/site-packages/matplotlib/collections.py:885: RuntimeWarning: invalid value encountered in sqrt\n",
      "  scale = np.sqrt(self._sizes) * dpi / 72.0 * self._factor\n"
     ]
    },
    {
     "data": {
      "image/png": "[encoded data removed]",
      "text/plain": [
       "<Figure size 432x288 with 1 Axes>"
      ]
     },
     "metadata": {
      "needs_background": "light"
     },
     "output_type": "display_data"
    }
   ],
   "source": [
    "%matplotlib inline\n",
    "import numpy as np\n",
    "import matplotlib.pyplot as plt\n",
    "\n",
    "N = 100 \n",
    "\n",
    "x = np.random.rand(int(N/2),1)/3\n",
    "y = np.random.randn(int(N/2),1)/3\n",
    "\n",
    "x2 = np.random.rand(int(N/2),1)\n",
    "y2 = np.random.rand(int(N/2),1)\n",
    "\n",
    "x = np.concatenate((x,x2))\n",
    "y = np.concatenate((y,y2))\n",
    "\n",
    "\n",
    "data = np.concatenate((x,y),axis=1)\n",
    "data = data.reshape((N,2))\n",
    "\n",
    "plt.scatter(x, y, color='b', marker='o')\n",
    "plt.show()"
   ]
  },
  {
   "cell_type": "code",
   "execution_count": 7,
   "metadata": {},
   "outputs": [
    {
     "ename": "ValueError",
     "evalue": "cannot reshape array of size 36 into shape (6,5)",
     "output_type": "error",
     "traceback": [
      "\u001b[0;31m---------------------------------------------------------------------------\u001b[0m",
      "\u001b[0;31mValueError\u001b[0m                                Traceback (most recent call last)",
      "\u001b[0;32m<ipython-input-7-b33c3d911c12>\u001b[0m in \u001b[0;36m<module>\u001b[0;34m\u001b[0m\n\u001b[1;32m      5\u001b[0m \u001b[0my_res\u001b[0m \u001b[0;34m=\u001b[0m \u001b[0mnp\u001b[0m\u001b[0;34m.\u001b[0m\u001b[0mrandom\u001b[0m\u001b[0;34m.\u001b[0m\u001b[0mrand\u001b[0m\u001b[0;34m(\u001b[0m\u001b[0mK\u001b[0m\u001b[0;34m,\u001b[0m\u001b[0;36m1\u001b[0m\u001b[0;34m,\u001b[0m\u001b[0;36m3\u001b[0m\u001b[0;34m)\u001b[0m\u001b[0;34m\u001b[0m\u001b[0;34m\u001b[0m\u001b[0m\n\u001b[1;32m      6\u001b[0m \u001b[0mm\u001b[0m \u001b[0;34m=\u001b[0m \u001b[0mnp\u001b[0m\u001b[0;34m.\u001b[0m\u001b[0mconcatenate\u001b[0m\u001b[0;34m(\u001b[0m\u001b[0;34m(\u001b[0m\u001b[0mx_res\u001b[0m\u001b[0;34m,\u001b[0m \u001b[0my_res\u001b[0m\u001b[0;34m)\u001b[0m\u001b[0;34m,\u001b[0m \u001b[0maxis\u001b[0m\u001b[0;34m=\u001b[0m\u001b[0;36m1\u001b[0m\u001b[0;34m)\u001b[0m\u001b[0;34m\u001b[0m\u001b[0;34m\u001b[0m\u001b[0m\n\u001b[0;32m----> 7\u001b[0;31m \u001b[0mm\u001b[0m \u001b[0;34m=\u001b[0m \u001b[0mm\u001b[0m\u001b[0;34m.\u001b[0m\u001b[0mreshape\u001b[0m\u001b[0;34m(\u001b[0m\u001b[0mK\u001b[0m\u001b[0;34m,\u001b[0m\u001b[0;36m5\u001b[0m\u001b[0;34m)\u001b[0m\u001b[0;34m\u001b[0m\u001b[0;34m\u001b[0m\u001b[0m\n\u001b[0m\u001b[1;32m      8\u001b[0m \u001b[0mprint\u001b[0m\u001b[0;34m(\u001b[0m\u001b[0mm\u001b[0m\u001b[0;34m)\u001b[0m\u001b[0;34m\u001b[0m\u001b[0;34m\u001b[0m\u001b[0m\n\u001b[1;32m      9\u001b[0m \u001b[0mcolors\u001b[0m \u001b[0;34m=\u001b[0m \u001b[0;34m[\u001b[0m\u001b[0;34m'r'\u001b[0m\u001b[0;34m,\u001b[0m\u001b[0;34m'b'\u001b[0m\u001b[0;34m,\u001b[0m\u001b[0;34m'g'\u001b[0m\u001b[0;34m,\u001b[0m\u001b[0;34m'k'\u001b[0m\u001b[0;34m,\u001b[0m\u001b[0;34m'c'\u001b[0m\u001b[0;34m,\u001b[0m\u001b[0;34m'm'\u001b[0m\u001b[0;34m,\u001b[0m\u001b[0;34m'y'\u001b[0m\u001b[0;34m]\u001b[0m\u001b[0;34m\u001b[0m\u001b[0;34m\u001b[0m\u001b[0m\n",
      "\u001b[0;31mValueError\u001b[0m: cannot reshape array of size 36 into shape (6,5)"
     ]
    }
   ],
   "source": [
    "#number of clusters\n",
    "K = 6\n",
    "# randomly initialize cluster \"heads\"\n",
    "x_res = np.random.rand(K,1)\n",
    "y_res = np.random.rand(K,1)\n",
    "m = np.concatenate((x_res, y_res), axis=1)\n",
    "m = m.reshape(K,2)\n",
    "print(m)\n",
    "colors = ['r','b','g','k','c','m','y']\n",
    "for i in range(K):\n",
    "    plt.scatter(x_res[i],y_res[i], color=colors[i],marker='o')"
   ]
  },
  {
   "cell_type": "code",
   "execution_count": 314,
   "metadata": {},
   "outputs": [],
   "source": [
    "def dist(a,b):\n",
    "    return np.sqrt((a[0]-b[0])**2 + (a[1]-b[1])**2)**2\n",
    "    "
   ]
  },
  {
   "cell_type": "code",
   "execution_count": 315,
   "metadata": {},
   "outputs": [
    {
     "data": {
      "text/plain": [
       "[array([0.82372   , 0.76155435, 0.9677587 , 0.76744828, 0.53142516,\n",
       "        0.84310117, 0.68889964, 0.98657754, 0.51479707, 0.76222391,\n",
       "        0.71087386, 0.63101786, 0.9361176 , 0.41190811, 0.64160108,\n",
       "        0.64568496, 0.7816625 , 0.88687972, 0.56524243, 0.96289626]),\n",
       " array([0.95087027, 0.24972021, 0.68110049, 0.48602791, 0.48036376,\n",
       "        0.38228695, 0.98954922, 0.09840453, 0.62805453, 0.31264824,\n",
       "        0.63410665, 0.1116784 , 0.79067375, 0.39160224, 0.78634865,\n",
       "        0.46528088, 0.65956388, 0.14440983, 0.54131638, 0.48651713,\n",
       "        0.43516736, 0.72999144, 0.53945919, 0.22814403, 0.54912766,\n",
       "        0.38460668, 0.95455183, 0.01252073, 0.6799326 , 0.39601914,\n",
       "        0.46859077, 0.60770762]),\n",
       " array([0.94987392, 0.95483901]),\n",
       " array([0.18039173, 0.91145608, 0.085357  , 0.66772434, 0.02608661,\n",
       "        0.77588878, 0.35635081, 0.78893701, 0.4210064 , 0.93077442,\n",
       "        0.21658348, 0.70634025, 0.35612483, 0.87528199, 0.4154524 ,\n",
       "        0.79174821, 0.36445203, 0.98932375, 0.06307029, 0.72610517,\n",
       "        0.17930323, 0.92728086, 0.21983255, 0.74399999]),\n",
       " array([ 0.21723251, -0.21317134,  0.09556537,  0.2727632 ,  0.08859289,\n",
       "        -0.0391753 ,  0.32343734,  0.04692512,  0.25937232,  0.08956429,\n",
       "         0.16569576,  0.20470743,  0.01303244,  0.18503657,  0.29583149,\n",
       "        -0.03759455,  0.14426688, -0.54023504,  0.17890617, -0.05742321,\n",
       "         0.01131555, -0.20938865,  0.1662835 ,  0.12089824,  0.19812318,\n",
       "        -0.01281849,  0.31506788, -0.21834487,  0.00688097, -0.21213312,\n",
       "         0.21503089,  0.04613081,  0.08142802,  0.06239415,  0.16416556,\n",
       "        -0.15898073,  0.12252421,  0.14934535,  0.26599852, -0.58045033,\n",
       "         0.14534394, -0.06809963,  0.22495504, -0.2942385 ,  0.02716934,\n",
       "        -0.0631893 ,  0.22832297,  0.24636013,  0.20713978, -0.29887006,\n",
       "         0.18136266,  0.27279236,  0.11683682, -0.0694544 ,  0.27517303,\n",
       "         0.25628843,  0.14670879,  0.00691035,  0.00392217,  0.05608501,\n",
       "         0.06959054,  0.06716729,  0.19823809, -0.31803725,  0.07872083,\n",
       "        -0.05433125,  0.03016611, -0.30551423,  0.10890884, -0.32706436,\n",
       "         0.25506835, -0.44180121,  0.32487205,  0.07759058,  0.03976215,\n",
       "        -0.58073424,  0.14827816,  0.00413184,  0.1579879 , -0.01447488,\n",
       "         0.05701516,  0.25064099,  0.20165047, -0.05774536,  0.24419407,\n",
       "         0.13718006,  0.13320009,  0.24015758,  0.33616792,  0.18026167,\n",
       "         0.0640838 ,  0.01289527,  0.30590716,  0.04212617,  0.37658171,\n",
       "         0.20045911,  0.40398054,  0.13967281,  0.14450718,  0.10594795,\n",
       "         0.5047159 ,  0.1269472 ]),\n",
       " array([0.22511136, 0.40888322, 0.13745224, 0.37066729, 0.16493437,\n",
       "        0.37228493, 0.13615239, 0.55357282, 0.2562724 , 0.58021091,\n",
       "        0.05627042, 0.53307467, 0.3623941 , 0.33832867, 0.30184475,\n",
       "        0.32692548, 0.15613473, 0.33839555, 0.20610286, 0.44822914])]"
      ]
     },
     "execution_count": 315,
     "metadata": {},
     "output_type": "execute_result"
    }
   ],
   "source": [
    "# should have K elements each array\n",
    "clusters = []\n",
    "\n",
    "for i in range(K):\n",
    "    clusters.append(np.array([]))\n",
    "    \n",
    "for p in data:\n",
    "    dists = np.zeros(K)\n",
    "    for idx,rp in enumerate(m):\n",
    "        dists[idx] = dist(p,rp)\n",
    "        \n",
    "    clusters[np.argmin(dists)] = np.append(clusters[np.argmin(dists)],np.array(p))\n",
    "\n",
    "clusters"
   ]
  },
  {
   "cell_type": "code",
   "execution_count": 316,
   "metadata": {},
   "outputs": [],
   "source": [
    "new = []\n",
    "\n",
    "for i in range(K):\n",
    "    new.append(np.array([]))\n",
    "    \n",
    "for i in range(K):\n",
    "    new[i] = clusters[i].reshape(int(len(clusters[i])/2),2)\n"
   ]
  },
  {
   "cell_type": "code",
   "execution_count": 319,
   "metadata": {},
   "outputs": [
    {
     "data": {
      "image/png": "[encoded data removed]",
      "text/plain": [
       "<Figure size 432x288 with 1 Axes>"
      ]
     },
     "metadata": {
      "needs_background": "light"
     },
     "output_type": "display_data"
    }
   ],
   "source": [
    "fig=plt.figure()\n",
    "#plt.figure(figsize=(4, 8), dpi=80)\n",
    "#ax=fig.add_axes([-2,-2,2,2])\n",
    "for i in range(K):\n",
    "    plt.scatter(new[i][:,0],new[i][:,1], color=colors[i],marker='o')\n",
    "    plt.scatter(x_res[i],y_res[i], color=colors[i],marker='P')\n"
   ]
  },
  {
   "cell_type": "code",
   "execution_count": 160,
   "metadata": {},
   "outputs": [],
   "source": []
  },
  {
   "cell_type": "code",
   "execution_count": 318,
   "metadata": {},
   "outputs": [],
   "source": [
    "for i in range(100):\n",
    "        # should have K elements each array\n",
    "    clusters = []\n",
    "\n",
    "    for i in range(K):\n",
    "        clusters.append(np.array([]))\n",
    "\n",
    "    for p in data:\n",
    "        dists = np.zeros(K)\n",
    "        for idx,rp in enumerate(m):\n",
    "            dists[idx] = dist(p,rp)\n",
    "\n",
    "        clusters[np.argmin(dists)] = np.append(clusters[np.argmin(dists)],np.array(p))\n",
    "\n",
    "    new = []\n",
    "\n",
    "    for i in range(K):\n",
    "        new.append(np.array([]))\n",
    "    \n",
    "    for i in range(K):\n",
    "        new[i] = clusters[i].reshape(int(len(clusters[i])/2),2)\n",
    "        \n",
    "    for i in range(K):\n",
    "        x_res[i] = np.mean(new[i][:,0])\n",
    "        y_res[i] = np.mean(new[i][:,1])\n",
    "        m = np.concatenate((x_res, y_res), axis=1)\n",
    "        m = m.reshape(K,2)\n"
   ]
  },
  {
   "cell_type": "code",
   "execution_count": null,
   "metadata": {},
   "outputs": [],
   "source": []
  }
 ],
 "metadata": {
  "kernelspec": {
   "display_name": "Python 3.8.2 64-bit",
   "language": "python",
   "name": "python38264bitdfe27779e65d4ce78c50215d9a482569"
  },
  "language_info": {
   "codemirror_mode": {
    "name": "ipython",
    "version": 3
   },
   "file_extension": ".py",
   "mimetype": "text/x-python",
   "name": "python",
   "nbconvert_exporter": "python",
   "pygments_lexer": "ipython3",
   "version": "3.8.2"
  }
 },
 "nbformat": 4,
 "nbformat_minor": 2
}
